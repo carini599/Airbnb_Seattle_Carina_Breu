{
 "cells": [
  {
   "cell_type": "markdown",
   "metadata": {},
   "source": [
    "## Understanding Airbnb Prices: Insights for your next Trip\n",
    "Price relations and patterns of Airbnb listings in Seattle, Washington. \n",
    " \n",
    "### Introduction\n",
    "\n",
    "Have you ever asked yourself, which accomodation characteristics justify higher renting prices?\n",
    "\n",
    "When I usually search for my next holiday accomodation, I always begin by entering the number of persons, bedrooms and a downside rating threshold.\n",
    "Throughout my analysis of the Seattle Airbnb Dataset however, I realized, that positive ratings have almost any effect on the prices charged by hosts on Airbnb.\n",
    "\n",
    "The Seattle Airbnb dataset covers 3818 listings on Airbnb in Seattle and daily pricing data for the whole year of 2016.\n",
    "It provides detailed information about the room type, neighboorhood, accommodates, bed- and bathrooms as well as rating reviews.\n",
    "\n",
    "The main price drivers however are\n",
    "* Room Type\n",
    "* Location\n",
    "* No. of Bed- and Bathrooms\n",
    "* Time (Weekend and Seasonal Fluctuation)\n",
    "\n",
    "### Part I: What are typical characteristics  and locations for airbnb accomodations in Seattle? \n",
    "\n",
    "![](airbnb_market_seattle_2016.png)\n",
    "\n",
    "### Part II: How are the rental prices on airbnb related to different accomodation characteristics?\n",
    "\n",
    "![](pricing_airbnb_seattle_2016.png)\n",
    "\n",
    "### Part III: How do rental prices change over time?\n",
    "\n",
    "![](price_over_time_airbnb_seattle_2016.png)\n",
    "\n",
    "### Conclusion\n",
    "\n",
    "**How are accomodation prices for your next vacation trip? Can you identify similar price patterns?**\n",
    "\n",
    "If you are interested in more details about my analysis about Airbnb in Seattle, checkout my Github project [here](https://github.com/carini599/Airbnb_Seattle_Carina_Breu)."
   ]
  },
  {
   "cell_type": "markdown",
   "metadata": {},
   "source": []
  }
 ],
 "metadata": {
  "language_info": {
   "name": "python"
  }
 },
 "nbformat": 4,
 "nbformat_minor": 2
}
